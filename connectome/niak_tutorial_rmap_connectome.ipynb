{
 "cells": [
  {
   "cell_type": "markdown",
   "metadata": {},
   "source": [
    "# Connectome pipeline\n",
    "This tutorial shows how to use the NIAK connectome pipeline to generate seed-based functional connectivity maps on the COBRE sample. See the [documentation](http://niak.simexp-lab.org/pipe_connectome.html) of the pipeline for a more detailed description of the options. Download the tutorial as a notebook [here](https://raw.githubusercontent.com/SIMEXP/niak_tutorials/master/connectome/niak_tutorial_rmap_connectome.ipynb) and a matlab script [here](https://raw.githubusercontent.com/SIMEXP/niak_tutorials/master/connectome/niak_tutorial_rmap_connectome.m). To run this tutorial, we recommend to use [jupyter](http://jupyter.org/) from a niak docker container, as described in the [NIAK installation page](http://niak.simexp-lab.org/niak_installation.html). "
   ]
  },
  {
   "cell_type": "markdown",
   "metadata": {},
   "source": [
    "## Preparing files\n",
    "\n",
    "### Functional MRI \n",
    "First download a small preprocessed fMRI dataset. "
   ]
  },
  {
   "cell_type": "code",
   "execution_count": 1,
   "metadata": {
    "collapsed": false
   },
   "outputs": [],
   "source": [
    "clear\n",
    "path_data = [pwd filesep];\n",
    "[status,msg,data_fmri] = niak_wget('single_subject_cambridge_preprocessed_nii');"
   ]
  },
  {
   "cell_type": "markdown",
   "metadata": {},
   "source": [
    "When starting from fMRI data preprocessed with NIAK, it is possible to use `niak_grab_fmri_preprocess` on the output folder to collect the file names, as described in the [pipeline documentation](http://niak.simexp-lab.org/pipe_connectome.html). In this case there is a single fMRI file, and we explicitely list it for the pipeline: "
   ]
  },
  {
   "cell_type": "code",
   "execution_count": 2,
   "metadata": {
    "collapsed": false
   },
   "outputs": [],
   "source": [
    "files_in = struct;\n",
    "files_in.fmri.subject1.sess1.rest = [data_fmri.path filesep 'fmri_sub00156_session1_rest.nii.gz'];"
   ]
  },
  {
   "cell_type": "markdown",
   "metadata": {},
   "source": [
    "### Brain parcellation\n",
    "The second input of the pipeline is a set of brain parcels. We will just download the so-called Cambridge functional template. \n",
    "\n"
   ]
  },
  {
   "cell_type": "code",
   "execution_count": 3,
   "metadata": {
    "collapsed": false
   },
   "outputs": [],
   "source": [
    "[status,msg,data_template] = niak_wget('cambridge_template_mnc1');"
   ]
  },
  {
   "cell_type": "markdown",
   "metadata": {},
   "source": [
    "We are going to pick the parcellation into 7 distributed networks."
   ]
  },
  {
   "cell_type": "code",
   "execution_count": 4,
   "metadata": {
    "collapsed": false
   },
   "outputs": [],
   "source": [
    "files_in.network = [data_template.path filesep 'template_cambridge_basc_multiscale_sym_scale007.mnc.gz'];"
   ]
  },
  {
   "cell_type": "markdown",
   "metadata": {},
   "source": [
    "### List of seeds\n",
    "\n",
    "The next step is to generate a list of seeds. This requires creating a text file that looks like:\n",
    "```\n",
    "        , index\n",
    " MOTOR  , 3\n",
    " DMN    , 5\n",
    "```\n",
    "We are going to use NIAK's tool to write comma-separated values (CSV) in a file:"
   ]
  },
  {
   "cell_type": "code",
   "execution_count": 5,
   "metadata": {
    "collapsed": true
   },
   "outputs": [],
   "source": [
    "files_in.seeds = [path_data 'list_seeds.csv'];\n",
    "opt_csv.labels_x = { 'MOTOR' , 'DMN' }; % The labels for the network\n",
    "opt_csv.labels_y = { 'index' };\n",
    "tab = [3 ; 5];\n",
    "niak_write_csv(files_in.seeds,tab,opt_csv);"
   ]
  },
  {
   "cell_type": "markdown",
   "metadata": {},
   "source": [
    "## Set the options of the pipeline\n",
    "Now we set up where to store the results:"
   ]
  },
  {
   "cell_type": "code",
   "execution_count": 6,
   "metadata": {
    "collapsed": true
   },
   "outputs": [],
   "source": [
    "opt.folder_out = [path_data 'connectome'];"
   ]
  },
  {
   "cell_type": "markdown",
   "metadata": {},
   "source": [
    "We set options such that we will not generate graph properties, just the correlation maps:"
   ]
  },
  {
   "cell_type": "code",
   "execution_count": 7,
   "metadata": {
    "collapsed": true
   },
   "outputs": [],
   "source": [
    "opt.flag_p2p = false; % No parcel-to-parcel correlation values\n",
    "opt.flag_global_prop = false; % No global graph properties\n",
    "opt.flag_local_prop  = false; % No local graph properties\n",
    "opt.flag_rmap = true; % Generate correlation maps"
   ]
  },
  {
   "cell_type": "markdown",
   "metadata": {},
   "source": [
    "## Run the pipeline\n",
    "Now let's run the pipeline:"
   ]
  },
  {
   "cell_type": "code",
   "execution_count": 8,
   "metadata": {
    "collapsed": false
   },
   "outputs": [
    {
     "name": "stdout",
     "output_type": "stream",
     "text": [
      "Adding seed MOTOR (parcel number 3)\n",
      "Adding seed DMN (parcel number 5)\n",
      "\n",
      "Logs will be stored in /sandbox/home/git/niak_tutorials/connectome/connectome/logs/\n",
      "Generating dependencies ...\n",
      "   Percentage completed :  20 40 60 80 100- 0.01 sec\n",
      "Setting up the to-do list ...\n",
      "   I found 5 job(s) to do.\n",
      "I could not find any log file. This pipeline has not been started (yet?). Press CTRL-C to cancel.\n",
      "Deamon started on 21-Nov-2016 02:33:44\n",
      "21-Nov-2016 02:33:44 Starting the pipeline manager...\n",
      "21-Nov-2016 02:33:44 Starting the garbage collector...\n",
      "21-Nov-2016 02:33:44 Starting worker number 1...\n",
      "21-Nov-2016 02:33:44 Starting worker number 2...\n",
      "21-Nov-2016 02:33:44 Starting worker number 3...\n",
      "21-Nov-2016 02:33:44 Starting worker number 4...\n",
      "\n",
      "Pipeline started on 21-Nov-2016 02:33:45\n",
      "user: , host: 43c4ef2130b0, system: unix\n",
      "****************************************\n",
      "21-Nov-2016 02:33:46 mask_rois           submitted  (1 run / 0 fail / 0 done / 4 left)\n",
      "21-Nov-2016 02:33:54 mask_rois           finished   (0 run / 0 fail / 1 done / 4 left)\n",
      "21-Nov-2016 02:33:54 connectome_subject1 submitted  (1 run / 0 fail / 1 done / 3 left)\n",
      "21-Nov-2016 02:33:54 rmap_seeds_subject1 submitted  (2 run / 0 fail / 1 done / 2 left)\n",
      "21-Nov-2016 02:33:54 Stopping idle worker 3 (not enough jobs left to do).\n",
      "21-Nov-2016 02:33:54 Stopping idle worker 4 (not enough jobs left to do).\n",
      "21-Nov-2016 02:33:56 connectome_subject1 finished   (1 run / 0 fail / 2 done / 2 left)\n",
      "21-Nov-2016 02:33:59 rmap_seeds_subject1 finished   (0 run / 0 fail / 3 done / 2 left)\n",
      "21-Nov-2016 02:33:59 average_rmap_MOTOR  submitted  (1 run / 0 fail / 3 done / 1 left)\n",
      "21-Nov-2016 02:33:59 average_rmap_DMN    submitted  (2 run / 0 fail / 3 done / 0 left)\n",
      "Deamon terminated on 21-Nov-2016 02:34:00\n",
      "\n",
      "21-Nov-2016 02:33:59 average_rmap_MOTOR  finished   (1 run / 0 fail / 4 done / 0 left)\n",
      "21-Nov-2016 02:33:59 average_rmap_DMN    finished   (0 run / 0 fail / 5 done / 0 left)\n",
      "21-Nov-2016 02:33:59 Stopping idle worker 1 (not enough jobs left to do).\n",
      "21-Nov-2016 02:33:59 Stopping idle worker 2 (not enough jobs left to do).\n",
      "\n",
      "*******************************************\n",
      "Pipeline terminated on 21-Nov-2016 02:33:59\n",
      "All jobs have been successfully completed.\n",
      "\n"
     ]
    }
   ],
   "source": [
    "opt.flag_test = false; \n",
    "[pipeline,opt] = niak_pipeline_connectome(files_in,opt); "
   ]
  },
  {
   "cell_type": "markdown",
   "metadata": {},
   "source": [
    "# Reviewing outputs"
   ]
  },
  {
   "cell_type": "markdown",
   "metadata": {},
   "source": [
    "All the correlation maps have been generated in the subfolder called `rmap_seeds`, inside the output folder. We can have a quick look at them. Note that the files have been named using the identification codes we used in `files_in.fmri`, and well as in the file `files_in.seeds`.  "
   ]
  },
  {
   "cell_type": "code",
   "execution_count": 9,
   "metadata": {
    "collapsed": false
   },
   "outputs": [
    {
     "name": "stdout",
     "output_type": "stream",
     "text": [
      "ans =\n",
      "\n",
      "   53   64   52\n",
      "\n",
      "ans =\n",
      "\n",
      "   53   64   52\n",
      "\n"
     ]
    }
   ],
   "source": [
    "file_dmn   = [opt.folder_out filesep 'rmap_seeds' filesep 'rmap_subject1_DMN.nii.gz'];\n",
    "file_motor = [opt.folder_out filesep 'rmap_seeds' filesep 'rmap_subject1_MOTOR.nii.gz'];\n",
    "[hdr,rmap_dmn]   = niak_read_vol(file_dmn);\n",
    "[hdr,rmap_motor] = niak_read_vol(file_motor);\n",
    "size(rmap_dmn)\n",
    "size(rmap_motor)"
   ]
  },
  {
   "cell_type": "markdown",
   "metadata": {},
   "source": [
    "We will now use `niak_vol2img` to generate a series of axial slices for both maps. "
   ]
  },
  {
   "cell_type": "code",
   "execution_count": 10,
   "metadata": {
    "collapsed": false
   },
   "outputs": [
    {
     "data": {
      "image/png": "[encoded data removed]",
      "text/plain": [
       "<IPython.core.display.Image object>"
      ]
     },
     "metadata": {},
     "output_type": "display_data"
    }
   ],
   "source": [
    "% The default-mode network\n",
    "coord = linspace(-20,40,10)';\n",
    "coord = repmat(coord,[1 3]);\n",
    "opt_v = struct;\n",
    "opt_v.type_view = 'axial';\n",
    "img_dmn = niak_vol2img(hdr,rmap_dmn,coord,opt_v);\n",
    "imshow(img_dmn,[0,1])"
   ]
  },
  {
   "cell_type": "code",
   "execution_count": 11,
   "metadata": {
    "collapsed": false
   },
   "outputs": [
    {
     "data": {
      "image/png": "[encoded data removed]",
      "text/plain": [
       "<IPython.core.display.Image object>"
      ]
     },
     "metadata": {},
     "output_type": "display_data"
    }
   ],
   "source": [
    "% The sensorimotor network\n",
    "img_motor = niak_vol2img(hdr,rmap_motor,coord,opt_v);\n",
    "imshow(img_motor,[0,1])"
   ]
  },
  {
   "cell_type": "markdown",
   "metadata": {},
   "source": [
    "There are also two files which contain the seeds as binary masks. E.g.:"
   ]
  },
  {
   "cell_type": "code",
   "execution_count": 12,
   "metadata": {
    "collapsed": false
   },
   "outputs": [
    {
     "data": {
      "image/png": "[encoded data removed]",
      "text/plain": [
       "<IPython.core.display.Image object>"
      ]
     },
     "metadata": {},
     "output_type": "display_data"
    }
   ],
   "source": [
    "file_mask_dmn   = [opt.folder_out filesep 'rmap_seeds' filesep 'mask_DMN.nii.gz'];\n",
    "[hdr,mask_dmn]   = niak_read_vol(file_mask_dmn);\n",
    "img_mask_dmn = niak_vol2img(hdr,mask_dmn,coord,opt_v);\n",
    "imshow(img_mask_dmn,[0,1])"
   ]
  },
  {
   "cell_type": "markdown",
   "metadata": {},
   "source": [
    "Finally, note that there are two files containing the average correlation maps (e.g. `average_rmap_DMN.nii.gz` for the DMN), across all subjects. But as we have only one subject here, these maps are identical to individual maps."
   ]
  }
 ],
 "metadata": {
  "kernelspec": {
   "display_name": "Octave",
   "language": "octave",
   "name": "octave"
  },
  "language_info": {
   "file_extension": ".m",
   "help_links": [
    {
     "text": "MetaKernel Magics",
     "url": "https://github.com/calysto/metakernel/blob/master/metakernel/magics/README.md"
    }
   ],
   "mimetype": "text/x-octave",
   "name": "octave",
   "version": "0.16.1"
  }
 },
 "nbformat": 4,
 "nbformat_minor": 1
}
