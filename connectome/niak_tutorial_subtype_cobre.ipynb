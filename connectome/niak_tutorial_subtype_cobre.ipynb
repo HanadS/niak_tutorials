{
 "cells": [
  {
   "cell_type": "code",
   "execution_count": 1,
   "metadata": {
    "collapsed": false
   },
   "outputs": [
    {
     "name": "stdout",
     "output_type": "stream",
     "text": [
      "Adding library niak to the search path.\n",
      "\n",
      "Adding library psom to the search path.\n",
      "\n"
     ]
    }
   ],
   "source": [
    "cd\n",
    "build_path niak psom\n",
    "cd /home/pbellec/git/niak_tutorials/connectome"
   ]
  },
  {
   "cell_type": "markdown",
   "metadata": {},
   "source": [
    "# Subtype pipeline\n",
    "This tutorial shows how to use the NIAK subtype pipeline to identify subgroups of subjects with homogeneous seed-based functional connectivity maps in the COBRE lightweight20 release, and check if some subtypes are associated with a diagnosis of schizophrenia. See the [documentation](http://niak.simexp-lab.org/pipe_connectome.html) of the pipeline for a more detailed description of the options. Download the tutorial as a notebook [here](https://raw.githubusercontent.com/SIMEXP/niak_tutorials/master/connectome/niak_tutorial_rmap_connectome.ipynb) and a matlab script [here](https://raw.githubusercontent.com/SIMEXP/niak_tutorials/master/connectome/niak_tutorial_rmap_connectome.m). To run this tutorial, we recommend to use [jupyter](http://jupyter.org/) from a niak docker container, as described in the [NIAK installation page](http://niak.simexp-lab.org/niak_installation.html). "
   ]
  },
  {
   "cell_type": "markdown",
   "metadata": {},
   "source": [
    "To run that tutorial, you need to complete first the [correlation maps tutorial](http://niak.simexp-lab.org/niak_tutorial_rmap_connectome.html). You also need to run both tutorials in the same folder. "
   ]
  },
  {
   "cell_type": "markdown",
   "metadata": {},
   "source": [
    "# Preparing the files"
   ]
  },
  {
   "cell_type": "markdown",
   "metadata": {},
   "source": [
    "## Phenotypic data"
   ]
  },
  {
   "cell_type": "markdown",
   "metadata": {},
   "source": [
    "We first load the phenotypic data from the COBRE sample. This command will not work if you haven't downloaded the data yet as part of the rmap tutorial. "
   ]
  },
  {
   "cell_type": "code",
   "execution_count": 18,
   "metadata": {
    "collapsed": false
   },
   "outputs": [],
   "source": [
    "path_cobre = [pwd filesep 'cobre_lightweight20'];\n",
    "file_pheno = [path_cobre filesep 'phenotypic_data.tsv.gz'];\n",
    "tab = niak_read_csv_cell(file_pheno);"
   ]
  },
  {
   "cell_type": "markdown",
   "metadata": {},
   "source": [
    "Now we convert the values into a series of numerical covariates, that we save in a separate .csv file:"
   ]
  },
  {
   "cell_type": "code",
   "execution_count": 20,
   "metadata": {
    "collapsed": true
   },
   "outputs": [],
   "source": [
    "list_subject = tab(2:end,1);\n",
    "patient = strcmp(tab(2:end,5),'Patient');\n",
    "age = str2double(tab(2:end,2)); \n",
    "FD = str2double(tab(2:end,9));\n",
    "opt_csv.labels_x = list_subject; % Labels for the rows\n",
    "opt_csv.labels_y = { 'age' , 'patient' , 'fd' };\n",
    "niak_write_csv('model_patient.csv', [age patient FD] , opt_csv);"
   ]
  },
  {
   "cell_type": "markdown",
   "metadata": {},
   "source": [
    "We specify to the pipeline where to find the model:"
   ]
  },
  {
   "cell_type": "code",
   "execution_count": 31,
   "metadata": {
    "collapsed": true
   },
   "outputs": [],
   "source": [
    "files_in.model = [pwd filesep 'model_patient.csv'];"
   ]
  },
  {
   "cell_type": "markdown",
   "metadata": {},
   "source": [
    "# Connectivity maps"
   ]
  },
  {
   "cell_type": "markdown",
   "metadata": {},
   "source": [
    "Now we are going to get a list of the connectivity maps associated with each subject for one network, say the DMN. Labels for each network have been specified when running the `connectome` pipeline. We simply grab the outputs of the connectome pipeline. "
   ]
  },
  {
   "cell_type": "code",
   "execution_count": 37,
   "metadata": {
    "collapsed": false
   },
   "outputs": [],
   "source": [
    "path_connectome = [pwd filesep 'connectome'];\n",
    "files_conn = niak_grab_connectome(path_connectome);\n",
    "files_in.data = files_conn.rmap.DMN;"
   ]
  },
  {
   "cell_type": "markdown",
   "metadata": {},
   "source": [
    "## Brain mask\n",
    "We specify the mask of brain networks to the pipeline, so that it can use it to mask the grey matter. "
   ]
  },
  {
   "cell_type": "code",
   "execution_count": 39,
   "metadata": {
    "collapsed": false
   },
   "outputs": [],
   "source": [
    "files_in.mask = files_conn.network_rois;"
   ]
  },
  {
   "cell_type": "markdown",
   "metadata": {},
   "source": [
    "# Set up the options of the pipeline"
   ]
  },
  {
   "cell_type": "markdown",
   "metadata": {},
   "source": [
    "First specify where to save the outputs, and how many networks to use: "
   ]
  },
  {
   "cell_type": "code",
   "execution_count": 40,
   "metadata": {
    "collapsed": true
   },
   "outputs": [],
   "source": [
    "%% General\n",
    "opt.folder_out = [pwd filesep 'subtype'];    \n",
    "opt.scale = 1;"
   ]
  },
  {
   "cell_type": "markdown",
   "metadata": {},
   "source": [
    "Then specify which covariates to use as confounds **before** the generation of subtypes. "
   ]
  },
  {
   "cell_type": "code",
   "execution_count": 56,
   "metadata": {
    "collapsed": true
   },
   "outputs": [],
   "source": [
    "% turn on/off regression of confounds during stacking (true: apply / false: don't apply)\n",
    "opt.stack.flag_conf = true;                 \n",
    "% a list of variable names to be regressed out\n",
    "opt.stack.regress_conf = {'fd'};     "
   ]
  },
  {
   "cell_type": "markdown",
   "metadata": {},
   "source": [
    "The options for the subtypes themselves:"
   ]
  },
  {
   "cell_type": "code",
   "execution_count": 43,
   "metadata": {
    "collapsed": true
   },
   "outputs": [],
   "source": [
    "%% Subtyping\n",
    "opt.subtype.nb_subtype = 2;        % the number of subtypes to extract\n",
    "opt.subtype.sub_map_type = 'mean'; % the model for the subtype maps (options are 'mean' or 'median')"
   ]
  },
  {
   "cell_type": "markdown",
   "metadata": {},
   "source": [
    "Now we add an association test between subtypes and the patient label:"
   ]
  },
  {
   "cell_type": "code",
   "execution_count": 51,
   "metadata": {
    "collapsed": true
   },
   "outputs": [],
   "source": [
    "% turn on/off GLM association testing (true: apply / false: don't apply)\n",
    "opt.flag_assoc = true;                                \n",
    "% scalar number for the level of acceptable false-discovery rate (FDR) for the t-maps\n",
    "opt.association.patient.fdr = 0.05;                           \n",
    "% method for how the FDR is controlled\n",
    "opt.association.patient.type_fdr = 'BH';                      \n",
    "% turn on/off normalization of covariates in model (true: apply / false: don't apply)\n",
    "opt.association.patient.normalize_x = false;                   \n",
    "% turn on/off normalization of all data (true: apply / false: don't apply)\n",
    "opt.association.patient.normalize_y = false;                  \n",
    "% type of correction for normalization (options: 'mean', 'mean_var')\n",
    "opt.association.patient.normalize_type = 'mean';              \n",
    "% turn on/off adding a constant covariate to the model\n",
    "opt.association.patient.flag_intercept = true;     \n",
    "% To test a main effect of a variable\n",
    "opt.association.patient.contrast.patient = 1; % scalar number for the weight of the variable in the contrast\n",
    "opt.association.patient.contrast.fd = 0;      % scalar number for the weight of the variable in the contrast\n",
    "opt.association.patient.contrast.age = 0;     % scalar number for the weight of the variable in the contrast\n",
    "% type of data for visulization (options are 'continuous' or 'categorical')\n",
    "opt.association.patient.visu_type = 'categorical'; \n",
    "% turn on/off making plots for GLM testing (true: apply / false: don't apply)\n",
    "opt.association.patient.flag_visu = true; "
   ]
  },
  {
   "cell_type": "markdown",
   "metadata": {},
   "source": [
    "It is also possible to add a single chi-square test on the relationship between subtypes and a categorical variable:"
   ]
  },
  {
   "cell_type": "code",
   "execution_count": 49,
   "metadata": {
    "collapsed": true
   },
   "outputs": [],
   "source": [
    "% turn on/off running Chi-square test (true: apply / false: don't apply)\n",
    "opt.flag_chi2 = false;               \n",
    "% string name of the column in files_in.model on which the contigency table will be based\n",
    "opt.chi2.group_col_id = 'patient';    "
   ]
  },
  {
   "cell_type": "markdown",
   "metadata": {},
   "source": [
    "# Run the pipeline"
   ]
  },
  {
   "cell_type": "code",
   "execution_count": 57,
   "metadata": {
    "collapsed": false
   },
   "outputs": [
    {
     "name": "stdout",
     "output_type": "stream",
     "text": [
      "warning: The following field(s) were ignored in the structure opt:  flag_assoc\n",
      "warning: called from\n",
      "    psom_struct_defaults at line 112 column 5\n",
      "    niak_pipeline_subtype at line 245 column 5\n",
      "warning: The following field(s) were ignored in the structure opt:  type_visu flag_visu\n",
      "warning: The following field(s) were ignored in the structure opt:  type_visu flag_visu\n",
      "\n",
      "Logs will be stored in /home/pbellec/git/niak_tutorials/connectome/subtype/logs/\n",
      "Generating dependencies ...\n",
      "   Percentage completed :  20 40 60 80 100- 0.01 sec\n",
      "Setting up the to-do list ...\n",
      "   I found 5 job(s) to do.\n",
      "Deamon started on 25-Nov-2016 23:51:20\n",
      "25-Nov-2016 23:51:20 Starting the pipeline manager...\n",
      "25-Nov-2016 23:51:20 Starting the garbage collector...\n",
      "25-Nov-2016 23:51:20 Starting worker number 1...\n",
      "\n",
      "Pipeline started on 25-Nov-2016 23:51:21\n",
      "user: pbellec, host: acacia, system: unix\n",
      "*****************************************\n",
      "25-Nov-2016 23:51:22 stack_1                  submitted  (1 run / 0 fail / 0 done / 4 left)\n",
      "25-Nov-2016 23:51:24 stack_1                  finished   (0 run / 0 fail / 1 done / 4 left)\n",
      "25-Nov-2016 23:51:24 subtype_1                submitted  (1 run / 0 fail / 1 done / 3 left)\n",
      "25-Nov-2016 23:51:27 subtype_1                finished   (0 run / 0 fail / 2 done / 3 left)\n",
      "25-Nov-2016 23:51:27 weight_extraction        submitted  (1 run / 0 fail / 2 done / 2 left)\n",
      "25-Nov-2016 23:51:28 weight_extraction        finished   (0 run / 0 fail / 3 done / 2 left)\n",
      "25-Nov-2016 23:51:28 association_test_patient submitted  (1 run / 0 fail / 3 done / 1 left)\n",
      "25-Nov-2016 23:51:29 association_test_patient finished   (0 run / 0 fail / 4 done / 1 left)\n",
      "25-Nov-2016 23:51:29 visu_patient             submitted  (1 run / 0 fail / 4 done / 0 left)\n",
      "25-Nov-2016 23:51:30 visu_patient             finished   (0 run / 0 fail / 5 done / 0 left)\n",
      "25-Nov-2016 23:51:30 Stopping idle worker 1 (not enough jobs left to do).\n",
      "\n",
      "*******************************************\n",
      "Pipeline terminated on 25-Nov-2016 23:51:30\n",
      "All jobs have been successfully completed.\n",
      "\n"
     ]
    }
   ],
   "source": [
    "opt.flag_test = false;  % Put this flag to true to just generate the pipeline without running it.\n",
    "[pipeline,opt] = niak_pipeline_subtype(files_in,opt);"
   ]
  }
 ],
 "metadata": {
  "kernelspec": {
   "display_name": "Octave",
   "language": "octave",
   "name": "octave"
  },
  "language_info": {
   "file_extension": ".m",
   "help_links": [
    {
     "text": "MetaKernel Magics",
     "url": "https://github.com/calysto/metakernel/blob/master/metakernel/magics/README.md"
    }
   ],
   "mimetype": "text/x-octave",
   "name": "octave",
   "version": "0.16.0"
  }
 },
 "nbformat": 4,
 "nbformat_minor": 0
}
