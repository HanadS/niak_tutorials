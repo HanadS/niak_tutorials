{
 "cells": [
  {
   "cell_type": "markdown",
   "metadata": {},
   "source": [
    "# fMRI preprocessing\n",
    "This tutorial shows how to run the NIAK fMRI preprocessing pipeline, using a limited set of options. See the [documentation](http://niak.simexp-lab.org/pipe_preprocessing.html) of the pipeline for a more comprehensive list of options. Download the tutorial as a notebook [here](https://raw.githubusercontent.com/SIMEXP/niak_tutorials/master/fmri_preprocessing/niak_tutorial_fmri_preprocessing.ipynb) and a matlab script [here](https://raw.githubusercontent.com/SIMEXP/niak_tutorials/master/fmri_preprocessing/niak_tutorial_fmri_preprocessing.m). We recommend to use [jupyter](http://jupyter.org/) from a niak docker container, as described in the [NIAK installation page](http://niak.simexp-lab.org/niak_installation.html). "
   ]
  },
  {
   "cell_type": "markdown",
   "metadata": {},
   "source": [
    "## Preparing files\n",
    "First download a small fMRI dataset, with a structural scan. Be aware that all raw and derivatives data will be generated in the current folder. Note that you will need to manually remove the `data_test_niak_mnc1` and `fmri_preprocess` folders to restart this tutorial from scratch."
   ]
  },
  {
   "cell_type": "code",
   "execution_count": 1,
   "metadata": {
    "collapsed": false
   },
   "outputs": [],
   "source": [
    "clear\n",
    "niak_wget('data_test_niak_mnc1');"
   ]
  },
  {
   "cell_type": "markdown",
   "metadata": {},
   "source": [
    "Now, set up the names of the structural and functional files."
   ]
  },
  {
   "cell_type": "code",
   "execution_count": 2,
   "metadata": {
    "collapsed": true
   },
   "outputs": [],
   "source": [
    "path_data = [pwd filesep];\n",
    "% Structural scan\n",
    "files_in.subject1.anat = ...\n",
    "    [path_data 'data_test_niak_mnc1/anat_subject1.mnc.gz'];       \n",
    "% fMRI run 1\n",
    "files_in.subject1.fmri.session1.motor = ...\n",
    "    [path_data 'data_test_niak_mnc1/func_motor_subject1.mnc.gz'];"
   ]
  },
  {
   "cell_type": "markdown",
   "metadata": {},
   "source": [
    "We start by specifying where to write the results."
   ]
  },
  {
   "cell_type": "code",
   "execution_count": 3,
   "metadata": {
    "collapsed": true
   },
   "outputs": [],
   "source": [
    "% Where to store the results\n",
    "opt.folder_out  = [path_data 'fmri_preprocess/'];"
   ]
  },
  {
   "cell_type": "markdown",
   "metadata": {},
   "source": [
    "## Parallel computing \n",
    "Next we specify how many threads to use. A value of `N` means that up to `N` jobs can be executed in parallel. "
   ]
  },
  {
   "cell_type": "code",
   "execution_count": 4,
   "metadata": {
    "collapsed": false
   },
   "outputs": [],
   "source": [
    "% Use up to 2 threads\n",
    "opt.psom.max_queued = 2;"
   ]
  },
  {
   "cell_type": "markdown",
   "metadata": {},
   "source": [
    "## Slice timing\n",
    "We now set the options of the slice timing correction. Note that we specify the type of the scanner (in practice, only 'Siemens' has an impact), because the definition of the scanner impacts the definition of the slice timing."
   ]
  },
  {
   "cell_type": "code",
   "execution_count": 5,
   "metadata": {
    "collapsed": true
   },
   "outputs": [],
   "source": [
    "opt.slice_timing.type_acquisition = 'interleaved ascending'; \n",
    "opt.slice_timing.type_scanner     = 'Bruker';                \n",
    "opt.slice_timing.delay_in_tr      = 0;"
   ]
  },
  {
   "cell_type": "markdown",
   "metadata": {},
   "source": [
    "other options are available as part of the slice timing step, which are not part of the slice timing per say. It is notably possible to center the functional images (if the header information is not accurate), or to suppress some volumes at the beginning of the time series: "
   ]
  },
  {
   "cell_type": "code",
   "execution_count": 6,
   "metadata": {
    "collapsed": false
   },
   "outputs": [],
   "source": [
    "% Center the functional volumes on the brain center-of-mass (true/false)\n",
    "opt.slice_timing.flag_center = false;\n",
    "% Suppress some volumes at the beginning of the run\n",
    "opt.slice_timing.suppress_vol = 3;"
   ]
  },
  {
   "cell_type": "markdown",
   "metadata": {},
   "source": [
    "## Resampling\n",
    "The voxel size for resampling in stereotaxic space is specified by the user:"
   ]
  },
  {
   "cell_type": "code",
   "execution_count": 7,
   "metadata": {
    "collapsed": true
   },
   "outputs": [],
   "source": [
    "% The voxel size to use in the stereotaxic space\n",
    "opt.resample_vol.voxel_size    = 10;"
   ]
  },
  {
   "cell_type": "markdown",
   "metadata": {},
   "source": [
    "## T1 processing\n",
    "The options for non-uniformity correction of the T1 image is often useful to tweak:"
   ]
  },
  {
   "cell_type": "code",
   "execution_count": 8,
   "metadata": {
    "collapsed": true
   },
   "outputs": [],
   "source": [
    "% Parameter for non-uniformity correction. \n",
    "% 200 is a suggested value for 1.5T images, \n",
    "% 75 for 3T images. \n",
    "opt.t1_preprocess.nu_correct.arg = '-distance 75';"
   ]
  },
  {
   "cell_type": "markdown",
   "metadata": {},
   "source": [
    "## Regression of confounds\n",
    "The options for temporal filtering, motion parameter regression, white matter and ventricle signal regression, COMPCOR, global signal correction and scrubbing."
   ]
  },
  {
   "cell_type": "code",
   "execution_count": 9,
   "metadata": {
    "collapsed": true
   },
   "outputs": [],
   "source": [
    "% Cut-off frequency for high-pass filtering, \n",
    "% or removal of low frequencies (in Hz). \n",
    "opt.time_filter.hp = 0.01; \n",
    "% Cut-off frequency for low-pass filtering, \n",
    "% or removal of high frequencies (in Hz). \n",
    "opt.time_filter.lp = 0.1;\n",
    "% Remove slow time drifts (true/false)\n",
    "opt.regress_confounds.flag_slow = true;\n",
    "% Remove high frequencies (true/false)\n",
    "opt.regress_confounds.flag_high = false;\n",
    "% Apply regression of motion parameters (true/false)\n",
    "opt.regress_confounds.flag_motion_params = true;\n",
    "% Reduce the dimensionality of motion parameters with PCA (true/false)\n",
    "opt.regress_confounds.flag_pca_motion = true;\n",
    "% How much variance of motion parameters (with squares) to retain\n",
    "opt.regress_confounds.pct_var_explained = 0.95;\n",
    "% Apply average white matter signal regression (true/false)         \n",
    "opt.regress_confounds.flag_wm = true;\n",
    "% Apply average ventricle signal regression (true/false)         \n",
    "opt.regress_confounds.flag_vent = true;\n",
    "% Apply anat COMPCOR (white matter+ventricles, true/false)\n",
    "% We recommend not using FLAG_WM and FLAG_VENT together with FLAG_COMPCOR\n",
    "opt.regress_confounds.flag_compcor = false;\n",
    "% Apply global signal regression (true/false)         \n",
    "opt.regress_confounds.flag_gsc = true; \n",
    "% Apply scrubbing (true/false)\n",
    "opt.regress_confounds.flag_scrubbing = true;     \n",
    "% The threshold on frame displacement for scrubbing \n",
    "opt.regress_confounds.thre_fd = 0.5;    "
   ]
  },
  {
   "cell_type": "markdown",
   "metadata": {},
   "source": [
    "## Spatial smoothing\n",
    "The size of the spatial Gaussian blurring kernel: "
   ]
  },
  {
   "cell_type": "code",
   "execution_count": 10,
   "metadata": {
    "collapsed": true
   },
   "outputs": [],
   "source": [
    "% Full-width at maximum (FWHM) of the Gaussian blurring kernel, in mm.\n",
    "opt.smooth_vol.fwhm      = 6;"
   ]
  },
  {
   "cell_type": "markdown",
   "metadata": {},
   "source": [
    "## Run the pipeline\n",
    "This command can take up to 20-30 minutes to complete. It runs the full preprocessing pipeline on one subject/run. "
   ]
  },
  {
   "cell_type": "code",
   "execution_count": null,
   "metadata": {
    "collapsed": false,
    "scrolled": true
   },
   "outputs": [
    {
     "name": "stdout",
     "output_type": "stream",
     "text": [
      "Generating pipeline for individual fMRI preprocessing :\n",
      "    Adding subject1 ; 0.25 sec\n",
      "Adding group-level quality control of coregistration in anatomical space (linear stereotaxic space) ; 0.01 sec\n",
      "Adding group-level quality control of coregistration in anatomical space (non-linear stereotaxic space) ; 0.01 sec\n",
      "Adding group-level quality control of coregistration in functional space ; 0.02 sec\n",
      "Adding group-level quality control of motion correction (motion parameters) ; 0.02 sec\n",
      "Adding group-level quality control of scrubbing time frames with excessive motion ; 0.00 sec\n",
      "Adding the report on fMRI preprocessing ; 0.24 sec\n",
      "\n",
      "Logs will be stored in /sandbox/home/git/niak_tutorials/fmri_preprocessing/fmri_preprocess/logs/\n",
      "Generating dependencies ...\n",
      "   Percentage completed :  0 5 10 15 20 25 30 35 40 45 50 55 60 65 70 75 80 85 90 95 100- 0.05 sec\n",
      "Setting up the to-do list ...\n",
      "   I found 50 job(s) to do.\n",
      "I could not find any log file. This pipeline has not been started (yet?). Press CTRL-C to cancel.\n",
      "Deamon started on 15-Oct-2016 18:36:20\n",
      "15-Oct-2016 18:36:20 Starting the pipeline manager...\n",
      "15-Oct-2016 18:36:20 Starting the garbage collector...\n",
      "15-Oct-2016 18:36:20 Starting worker number 1...\n",
      "15-Oct-2016 18:36:20 Starting worker number 2...\n",
      "\n",
      "Pipeline started on 15-Oct-2016 18:36:21\n",
      "user: , host: 6e3cbb9f4193, system: unix\n",
      "****************************************\n",
      ".15-Oct-2016 18:36:22 pipe_params                               submitted  (1 run / 0 fail / 0 done / 49 left)\n",
      "15-Oct-2016 18:36:22 resample_aal                              submitted  (2 run / 0 fail / 0 done / 48 left)\n",
      "15-Oct-2016 18:36:22 cp_confounds_keys                         submitted  (3 run / 0 fail / 0 done / 47 left)\n",
      "15-Oct-2016 18:36:22 cp_template                               submitted  (4 run / 0 fail / 0 done / 46 left)\n",
      ".\n",
      "15-Oct-2016 18:36:22 pipe_params                               finished   (3 run / 0 fail / 1 done / 46 left)\n",
      "15-Oct-2016 18:36:22 cp_confounds_keys                         finished   (2 run / 0 fail / 2 done / 46 left)\n",
      "15-Oct-2016 18:36:22 cp_template                               finished   (1 run / 0 fail / 3 done / 46 left)\n",
      "15-Oct-2016 18:36:22 resample_fmri_stereo                      submitted  (2 run / 0 fail / 3 done / 45 left)\n",
      "15-Oct-2016 18:36:22 t1_preprocess_subject1                    submitted  (3 run / 0 fail / 3 done / 44 left)\n",
      "15-Oct-2016 18:36:22 slice_timing_subject1_session1_motor      submitted  (4 run / 0 fail / 3 done / 43 left)\n",
      "..\n",
      "15-Oct-2016 18:36:23 resample_aal                              finished   (3 run / 0 fail / 4 done / 43 left)\n",
      "15-Oct-2016 18:36:23 rep_cp_report_templates                   submitted  (4 run / 0 fail / 4 done / 42 left)\n",
      ".\n",
      "15-Oct-2016 18:36:24 resample_fmri_stereo                      finished   (3 run / 0 fail / 5 done / 42 left)\n",
      "15-Oct-2016 18:36:24 slice_timing_subject1_session1_motor      finished   (2 run / 0 fail / 6 done / 42 left)\n",
      "15-Oct-2016 18:36:24 motion_target_subject1_session1_motor     submitted  (3 run / 0 fail / 6 done / 41 left)\n",
      "15-Oct-2016 18:36:24 rep_params                                submitted  (4 run / 0 fail / 6 done / 40 left)\n",
      ".\n",
      "15-Oct-2016 18:36:24 rep_cp_report_templates                   finished   (3 run / 0 fail / 7 done / 40 left)\n",
      "15-Oct-2016 18:36:24 rep_params                                finished   (2 run / 0 fail / 8 done / 40 left)\n",
      "15-Oct-2016 18:36:24 rep_template_stereo                       submitted  (3 run / 0 fail / 8 done / 39 left)\n",
      "15-Oct-2016 18:36:24 rep_t1_outline_registration               submitted  (4 run / 0 fail / 8 done / 38 left)\n",
      ".................\n",
      "15-Oct-2016 18:36:33 rep_t1_outline_registration               finished   (3 run / 0 fail / 9 done / 38 left)\n",
      "15-Oct-2016 18:36:33 rep_init_report                           submitted  (4 run / 0 fail / 9 done / 37 left)\n",
      "....................\n",
      "15-Oct-2016 18:36:43 rep_template_stereo                       finished   (3 run / 0 fail / 10 done / 37 left)\n",
      "15-Oct-2016 18:36:43 rep_init_report                           finished   (2 run / 0 fail / 11 done / 37 left)\n",
      "15-Oct-2016 18:36:43 rep_template_stereo_overlay               submitted  (3 run / 0 fail / 11 done / 36 left)\n",
      "15-Oct-2016 18:36:43 rep_motion_native_subject1_session1_motor submitted  (4 run / 0 fail / 11 done / 35 left)\n",
      "...\n",
      "15-Oct-2016 18:36:45 rep_motion_native_subject1_session1_motor finished   (3 run / 0 fail / 12 done / 35 left)\n",
      "15-Oct-2016 18:36:45 rep_target_native_subject1_session1_motor submitted  (4 run / 0 fail / 12 done / 34 left)\n",
      ".\n",
      "15-Oct-2016 18:36:45 rep_template_stereo_overlay               finished   (3 run / 0 fail / 13 done / 34 left)\n",
      "15-Oct-2016 18:36:45 rep_motion_report_subject1_session1_motor submitted  (4 run / 0 fail / 13 done / 33 left)\n",
      ".\n",
      "15-Oct-2016 18:36:46 rep_target_native_subject1_session1_motor finished   (3 run / 0 fail / 14 done / 33 left)\n",
      "15-Oct-2016 18:36:46 rep_motion_report                         submitted  (4 run / 0 fail / 14 done / 32 left)\n",
      ".\n",
      "15-Oct-2016 18:36:46 rep_motion_report_subject1_session1_motor finished   (3 run / 0 fail / 15 done / 32 left)\n",
      "15-Oct-2016 18:36:46 rep_motion_report                         finished   (2 run / 0 fail / 16 done / 32 left)\n"
     ]
    }
   ],
   "source": [
    "niak_pipeline_fmri_preprocess(files_in,opt);\n",
    "% Check the content of fmri_preprocess/logs/PIPE_history.txt to monitor the progress of the pipeline"
   ]
  },
  {
   "cell_type": "markdown",
   "metadata": {},
   "source": [
    "Once the pipeline has completed, an interactive report is built as part of the output. Just open the file `fmri_preprocess/report/index.html` in your browser. Note that because of the very low resolution in the functional images of these data, the T1-BOLD registration fails. Check an example report on a real sample [here](https://simexp.github.io/qc_cobre/index.html).  "
   ]
  }
 ],
 "metadata": {
  "kernelspec": {
   "display_name": "Octave",
   "language": "octave",
   "name": "octave"
  },
  "language_info": {
   "file_extension": ".m",
   "help_links": [
    {
     "text": "MetaKernel Magics",
     "url": "https://github.com/calysto/metakernel/blob/master/metakernel/magics/README.md"
    }
   ],
   "mimetype": "text/x-octave",
   "name": "octave",
   "version": "0.16.1"
  }
 },
 "nbformat": 4,
 "nbformat_minor": 1
}
