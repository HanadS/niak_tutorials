{
 "cells": [
  {
   "cell_type": "markdown",
   "metadata": {
    "deletable": true,
    "editable": true
   },
   "source": [
    "# fMRI preprocessing\n",
    "This tutorial shows how to run the NIAK fMRI preprocessing pipeline, using a limited set of options. See the [documentation](http://niak.simexp-lab.org/pipe_preprocessing.html) of the pipeline for a more comprehensive list of options. Download the tutorial as a notebook [here](https://raw.githubusercontent.com/SIMEXP/niak_tutorials/master/niak_tutorial_fmri_preprocessing.ipynb) and a matlab script [here](https://raw.githubusercontent.com/SIMEXP/niak_tutorials/master/niak_tutorial_fmri_preprocessing.m). "
   ]
  },
  {
   "cell_type": "markdown",
   "metadata": {
    "deletable": true,
    "editable": true
   },
   "source": [
    "## Preparing files\n",
    "First download a small fMRI dataset, with a structural scan. Be aware that all raw and derivatives data will be generated in the current folder. Note that you will need to manually remove the `data_test_niak_mnc1` and `fmri_preprocess` folders to restart this tutorial from scratch."
   ]
  },
  {
   "cell_type": "code",
   "execution_count": 1,
   "metadata": {
    "collapsed": false,
    "deletable": true,
    "editable": true
   },
   "outputs": [],
   "source": [
    "clear\n",
    "niak_wget('data_test_niak_mnc1');"
   ]
  },
  {
   "cell_type": "markdown",
   "metadata": {
    "deletable": true,
    "editable": true
   },
   "source": [
    "Now, set up the names of the structural and functional files."
   ]
  },
  {
   "cell_type": "code",
   "execution_count": 2,
   "metadata": {
    "collapsed": true,
    "deletable": true,
    "editable": true
   },
   "outputs": [],
   "source": [
    "path_data = [pwd filesep];\n",
    "% Structural scan subject 1\n",
    "files_in.subject1.anat = ...\n",
    "    [path_data 'data_test_niak_mnc1/anat_subject1.mnc.gz'];       \n",
    "% fMRI run 1 subject 1\n",
    "files_in.subject1.fmri.session1.motor = ...\n",
    "    [path_data 'data_test_niak_mnc1/func_motor_subject1.mnc.gz'];\n",
    "% Structural scan subject 2\n",
    "files_in.subject2.anat = ...\n",
    "    [path_data 'data_test_niak_mnc1/anat_subject2.mnc.gz'];       \n",
    "% fMRI run 1 subject 2\n",
    "files_in.subject2.fmri.session1.motor = ...\n",
    "    [path_data 'data_test_niak_mnc1/func_motor_subject2.mnc.gz'];"
   ]
  },
  {
   "cell_type": "markdown",
   "metadata": {
    "deletable": true,
    "editable": true
   },
   "source": [
    "We start by specifying where to write the results."
   ]
  },
  {
   "cell_type": "code",
   "execution_count": 3,
   "metadata": {
    "collapsed": true,
    "deletable": true,
    "editable": true
   },
   "outputs": [],
   "source": [
    "% Where to store the results\n",
    "opt.folder_out  = [path_data 'fmri_preprocess/'];"
   ]
  },
  {
   "cell_type": "markdown",
   "metadata": {
    "deletable": true,
    "editable": true
   },
   "source": [
    "## Parallel computing \n",
    "Next we specify how many threads to use. A value of `N` means that up to `N` jobs can be executed in parallel. "
   ]
  },
  {
   "cell_type": "code",
   "execution_count": 4,
   "metadata": {
    "collapsed": false,
    "deletable": true,
    "editable": true
   },
   "outputs": [],
   "source": [
    "% Use up to 2 threads\n",
    "opt.psom.max_queued = 2;"
   ]
  },
  {
   "cell_type": "markdown",
   "metadata": {
    "deletable": true,
    "editable": true
   },
   "source": [
    "## Slice timing\n",
    "We now set the options of the slice timing correction. Note that we specify the type of the scanner (in practice, only 'Siemens' has an impact), because the definition of the scanner impacts the definition of the slice timing."
   ]
  },
  {
   "cell_type": "code",
   "execution_count": 5,
   "metadata": {
    "collapsed": true,
    "deletable": true,
    "editable": true
   },
   "outputs": [],
   "source": [
    "opt.slice_timing.type_acquisition = 'interleaved ascending'; \n",
    "opt.slice_timing.type_scanner     = 'Bruker';                \n",
    "opt.slice_timing.delay_in_tr      = 0;"
   ]
  },
  {
   "cell_type": "markdown",
   "metadata": {
    "deletable": true,
    "editable": true
   },
   "source": [
    "other options are available as part of the slice timing step, which are not part of the slice timing per say. It is notably possible to center the functional images (if the header information is not accurate), or to suppress some volumes at the beginning of the time series: "
   ]
  },
  {
   "cell_type": "code",
   "execution_count": 6,
   "metadata": {
    "collapsed": false,
    "deletable": true,
    "editable": true
   },
   "outputs": [],
   "source": [
    "% Center the functional volumes on the brain center-of-mass (true/false)\n",
    "opt.slice_timing.flag_center = false;\n",
    "% Suppress some volumes at the beginning of the run\n",
    "opt.slice_timing.suppress_vol = 3;"
   ]
  },
  {
   "cell_type": "markdown",
   "metadata": {
    "deletable": true,
    "editable": true
   },
   "source": [
    "## Resampling\n",
    "The voxel size for resampling in stereotaxic space is specified by the user:"
   ]
  },
  {
   "cell_type": "code",
   "execution_count": 7,
   "metadata": {
    "collapsed": true,
    "deletable": true,
    "editable": true
   },
   "outputs": [],
   "source": [
    "% The voxel size to use in the stereotaxic space\n",
    "opt.resample_vol.voxel_size    = 10;"
   ]
  },
  {
   "cell_type": "markdown",
   "metadata": {
    "deletable": true,
    "editable": true
   },
   "source": [
    "## T1 processing\n",
    "The options for non-uniformity correction of the T1 image is often useful to tweak:"
   ]
  },
  {
   "cell_type": "code",
   "execution_count": 8,
   "metadata": {
    "collapsed": true,
    "deletable": true,
    "editable": true
   },
   "outputs": [],
   "source": [
    "% Parameter for non-uniformity correction. \n",
    "% 200 is a suggested value for 1.5T images, \n",
    "% 75 for 3T images. \n",
    "opt.t1_preprocess.nu_correct.arg = '-distance 75';"
   ]
  },
  {
   "cell_type": "markdown",
   "metadata": {
    "deletable": true,
    "editable": true
   },
   "source": [
    "## Regression of confounds\n",
    "The options for temporal filtering, motion parameter regression, white matter and ventricle signal regression, COMPCOR, global signal correction and scrubbing."
   ]
  },
  {
   "cell_type": "code",
   "execution_count": 9,
   "metadata": {
    "collapsed": true,
    "deletable": true,
    "editable": true
   },
   "outputs": [],
   "source": [
    "% Cut-off frequency for high-pass filtering, \n",
    "% or removal of low frequencies (in Hz). \n",
    "opt.time_filter.hp = 0.01; \n",
    "% Cut-off frequency for low-pass filtering, \n",
    "% or removal of high frequencies (in Hz). \n",
    "opt.time_filter.lp = 0.1;\n",
    "% Remove slow time drifts (true/false)\n",
    "opt.regress_confounds.flag_slow = true;\n",
    "% Remove high frequencies (true/false)\n",
    "opt.regress_confounds.flag_high = false;\n",
    "% Apply regression of motion parameters (true/false)\n",
    "opt.regress_confounds.flag_motion_params = true;\n",
    "% Reduce the dimensionality of motion parameters with PCA (true/false)\n",
    "opt.regress_confounds.flag_pca_motion = true;\n",
    "% How much variance of motion parameters (with squares) to retain\n",
    "opt.regress_confounds.pct_var_explained = 0.95;\n",
    "% Apply average white matter signal regression (true/false)         \n",
    "opt.regress_confounds.flag_wm = true;\n",
    "% Apply average ventricle signal regression (true/false)         \n",
    "opt.regress_confounds.flag_vent = true;\n",
    "% Apply anat COMPCOR (white matter+ventricles, true/false)\n",
    "% We recommend not using FLAG_WM and FLAG_VENT together with FLAG_COMPCOR\n",
    "opt.regress_confounds.flag_compcor = false;\n",
    "% Apply global signal regression (true/false)         \n",
    "opt.regress_confounds.flag_gsc = true; \n",
    "% Apply scrubbing (true/false)\n",
    "opt.regress_confounds.flag_scrubbing = true;     \n",
    "% The threshold on frame displacement for scrubbing \n",
    "opt.regress_confounds.thre_fd = 0.5;    "
   ]
  },
  {
   "cell_type": "markdown",
   "metadata": {
    "deletable": true,
    "editable": true
   },
   "source": [
    "## Spatial smoothing\n",
    "The size of the spatial Gaussian blurring kernel: "
   ]
  },
  {
   "cell_type": "code",
   "execution_count": 10,
   "metadata": {
    "collapsed": true,
    "deletable": true,
    "editable": true
   },
   "outputs": [],
   "source": [
    "% Full-width at maximum (FWHM) of the Gaussian blurring kernel, in mm.\n",
    "opt.smooth_vol.fwhm      = 6;"
   ]
  },
  {
   "cell_type": "markdown",
   "metadata": {
    "deletable": true,
    "editable": true
   },
   "source": [
    "## Run the pipeline\n",
    "This command can take up to 20-30 minutes to complete. It runs the full preprocessing pipeline on one subject/run. "
   ]
  },
  {
   "cell_type": "code",
   "execution_count": 11,
   "metadata": {
    "collapsed": false,
    "deletable": true,
    "editable": true,
    "scrolled": true
   },
   "outputs": [
    {
     "name": "stdout",
     "output_type": "stream",
     "text": [
      "Generating pipeline for individual fMRI preprocessing :\n",
      "    Adding subject1 ; 0.14 sec\n",
      "    Adding subject2 ; 0.09 sec\n",
      "Adding group-level quality control of coregistration in anatomical space (linear stereotaxic space) ; 0.01 sec\n",
      "Adding group-level quality control of coregistration in anatomical space (non-linear stereotaxic space) ; 0.01 sec\n",
      "Adding group-level quality control of coregistration in functional space ; 0.01 sec\n",
      "Adding group-level quality control of motion correction (motion parameters) ; 0.01 sec\n",
      "Adding group-level quality control of scrubbing time frames with excessive motion ; 0.00 sec\n",
      "Adding the report on fMRI preprocessing ; 0.26 sec\n",
      "\n",
      "Logs will be stored in /sandbox/home/git/niak_tutorials/fmri_preprocess/logs/\n",
      "Generating dependencies ...\n",
      "   Percentage completed :  0 5 10 15 20 25 30 35 40 45 50 55 60 65 70 75 80 85 90 95 100- 0.07 sec\n",
      "Setting up the to-do list ...\n",
      "All jobs are already completed. Bye for now !\n"
     ]
    }
   ],
   "source": [
    "niak_pipeline_fmri_preprocess(files_in,opt);\n",
    "% Check the content of fmri_preprocess/logs/PIPE_history.txt to monitor the progress of the pipeline"
   ]
  },
  {
   "cell_type": "markdown",
   "metadata": {
    "deletable": true,
    "editable": true
   },
   "source": [
    "Once the pipeline has completed, an interactive report is built as part of the output. Just open the file [fmri_preprocess/report/index.html](./fmri_preprocess/report/index.html) in your browser. Note that the images of the test data have very low resolution. Check an example report on a large sample with typical resolution [here](https://simexp.github.io/qc_cobre/index.html).  "
   ]
  }
 ],
 "metadata": {
  "kernelspec": {
   "display_name": "Octave",
   "language": "octave",
   "name": "octave"
  },
  "language_info": {
   "file_extension": ".m",
   "help_links": [
    {
     "text": "GNU Octave",
     "url": "https://www.gnu.org/software/octave/support.html"
    },
    {
     "text": "Octave Kernel",
     "url": "https://github.com/Calysto/octave_kernel"
    },
    {
     "text": "MetaKernel Magics",
     "url": "https://github.com/calysto/metakernel/blob/master/metakernel/magics/README.md"
    }
   ],
   "mimetype": "text/x-octave",
   "name": "octave",
   "version": "4.0.2"
  }
 },
 "nbformat": 4,
 "nbformat_minor": 1
}
