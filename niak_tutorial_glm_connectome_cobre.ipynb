{
 "cells": [
  {
   "cell_type": "code",
   "execution_count": 2,
   "metadata": {
    "collapsed": false
   },
   "outputs": [
    {
     "name": "stdout",
     "output_type": "stream",
     "text": [
      "Adding library niak to the search path.\n",
      "\n",
      "Adding library psom to the search path.\n",
      "\n"
     ]
    }
   ],
   "source": [
    "cd\n",
    "build_path niak psom\n",
    "cd /home/pbellec/git/niak_tutorials/glm_connectome"
   ]
  },
  {
   "cell_type": "markdown",
   "metadata": {},
   "source": [
    "# GLM connectome pipeline - intra-run\n",
    "This tutorial shows how to use the NIAK GLM connectome pipeline to compare two groups of subjects, 10 patients diagnosed with schizophrenia vs 10 healthy controls. We will illustrate how to include an intra-run contrast, i.e. manipulate the fMRI time series of each subject prior to generate connectivity measures. See the [documentation](http://niak.simexp-lab.org/pipe_glm_connectome.html) of the pipeline for a more detailed description of the options. There is also inline documentation you can access by typing `help niak_pipeline_glm_connectome`. Download the tutorial as a notebook [here](https://raw.githubusercontent.com/SIMEXP/niak_tutorials/master/glm_connectome/niak_tutorial_glm_connectome_cobre.ipynb) and a matlab script [here](https://raw.githubusercontent.com/SIMEXP/niak_tutorials/master/connectome/niak_tutorial_glm_connectome_cobre.m). To run this tutorial, we recommend to use [jupyter](http://jupyter.org/) from a niak docker container, as described in the [NIAK installation page](http://niak.simexp-lab.org/niak_installation.html). "
   ]
  },
  {
   "cell_type": "markdown",
   "metadata": {},
   "source": [
    "# Preparing the files\n",
    "### Functional MRI \n",
    "First download a small preprocessed fMRI dataset. "
   ]
  },
  {
   "cell_type": "code",
   "execution_count": 3,
   "metadata": {
    "collapsed": false
   },
   "outputs": [],
   "source": [
    "clear\n",
    "path_data = [pwd filesep];\n",
    "[status,msg,data_fmri] = niak_wget('cobre_lightweight20_nii');"
   ]
  },
  {
   "cell_type": "markdown",
   "metadata": {},
   "source": [
    "When starting from fMRI data preprocessed with NIAK, it is possible to use `niak_grab_fmri_preprocess` on the output folder to collect the file names, as described in the [pipeline documentation](http://niak.simexp-lab.org/pipe_connectome.html). In this case, we explicitely list all the files"
   ]
  },
  {
   "cell_type": "code",
   "execution_count": 4,
   "metadata": {
    "collapsed": true
   },
   "outputs": [],
   "source": [
    "file_pheno = [data_fmri.path filesep 'phenotypic_data.tsv.gz'];\n",
    "tab = niak_read_csv_cell(file_pheno);\n",
    "list_subject = tab(2:end,1);\n",
    "files_in = struct;\n",
    "for ss = 1:length(list_subject)\n",
    "    files_in.fmri.(list_subject{ss}).sess1.rest = [data_fmri.path filesep 'fmri_' list_subject{ss} '.nii.gz'];\n",
    "end"
   ]
  },
  {
   "cell_type": "markdown",
   "metadata": {},
   "source": [
    "### Brain parcellation\n",
    "The second input of the pipeline is a set of brain parcels. We will just download the so-called Cambridge functional template."
   ]
  },
  {
   "cell_type": "code",
   "execution_count": 5,
   "metadata": {
    "collapsed": false
   },
   "outputs": [],
   "source": [
    "[status,msg,data_template] = niak_wget('cambridge_template_mnc1');"
   ]
  },
  {
   "cell_type": "markdown",
   "metadata": {},
   "source": [
    "We are going to pick the parcellation into 36 clusters."
   ]
  },
  {
   "cell_type": "code",
   "execution_count": 6,
   "metadata": {
    "collapsed": true
   },
   "outputs": [],
   "source": [
    "files_in.network = [data_template.path filesep 'template_cambridge_basc_multiscale_sym_scale007.mnc.gz'];"
   ]
  },
  {
   "cell_type": "markdown",
   "metadata": {},
   "source": [
    "## Group model"
   ]
  },
  {
   "cell_type": "markdown",
   "metadata": {},
   "source": [
    "We need to build a group model describing our explanatory variables. We will start from an existing spreadsheet, saved in the `.csv` file format, and is available in the COBRE sample. "
   ]
  },
  {
   "cell_type": "code",
   "execution_count": 7,
   "metadata": {
    "collapsed": false
   },
   "outputs": [],
   "source": [
    "path_cobre = [pwd filesep 'cobre_lightweight20'];\n",
    "file_pheno = [path_cobre filesep 'phenotypic_data.tsv.gz'];\n",
    "tab = niak_read_csv_cell(file_pheno);"
   ]
  },
  {
   "cell_type": "markdown",
   "metadata": {},
   "source": [
    "Now we convert the values into a series of numerical covariates, that we save in a separate .csv file:"
   ]
  },
  {
   "cell_type": "code",
   "execution_count": 8,
   "metadata": {
    "collapsed": true
   },
   "outputs": [],
   "source": [
    "list_subject = tab(2:end,1);\n",
    "patient = strcmp(tab(2:end,5),'Patient');\n",
    "age = str2double(tab(2:end,2)); \n",
    "FD = str2double(tab(2:end,9));\n",
    "opt_csv.labels_x = list_subject; % Labels for the rows\n",
    "opt_csv.labels_y = { 'age' , 'patient' , 'fd' };\n",
    "niak_write_csv('model_patient.csv', [age patient FD] , opt_csv);"
   ]
  },
  {
   "cell_type": "markdown",
   "metadata": {},
   "source": [
    "We specify to the pipeline where to find the model:"
   ]
  },
  {
   "cell_type": "code",
   "execution_count": 9,
   "metadata": {
    "collapsed": true
   },
   "outputs": [],
   "source": [
    "files_in.model.group = [pwd filesep 'model_patient.csv'];"
   ]
  },
  {
   "cell_type": "markdown",
   "metadata": {},
   "source": [
    "### Checking the group model"
   ]
  },
  {
   "cell_type": "markdown",
   "metadata": {},
   "source": [
    "Although not necessary, we can visualize the group model and make sure it can be loaded properly with NIAK. The model is loaded in three variables:"
   ]
  },
  {
   "cell_type": "code",
   "execution_count": 10,
   "metadata": {
    "collapsed": true
   },
   "outputs": [],
   "source": [
    "[X_group,list_subject,list_var] = niak_read_csv(files_in.model.group);"
   ]
  },
  {
   "cell_type": "markdown",
   "metadata": {},
   "source": [
    "The `list_subject` and `list_var` are cell of strings that describe the subject (row) labels, and explanatory variables (column) labels, respectively: "
   ]
  },
  {
   "cell_type": "code",
   "execution_count": 11,
   "metadata": {
    "collapsed": false
   },
   "outputs": [
    {
     "name": "stdout",
     "output_type": "stream",
     "text": [
      "ans = \n",
      "{\n",
      "  [1,1] = 40061\n",
      "  [2,1] = 40117\n",
      "  [3,1] = 40145\n",
      "}\n",
      "list_var = \n",
      "{\n",
      "  [1,1] = age\n",
      "  [2,1] = patient\n",
      "  [3,1] = fd\n",
      "}\n"
     ]
    }
   ],
   "source": [
    "list_subject(1:3)\n",
    "list_var"
   ]
  },
  {
   "cell_type": "markdown",
   "metadata": {},
   "source": [
    "Here we have three variables: `age` is self-explanatory, `patient` is a binary variable coding for the diagnostic status (0 for controls, 1 for patients), and `fd` is an overall measure of motion during the fMRI scan, called frame displacement. We can visualize the data associated with the three variables as follows: We can compute the correlation between our three explanatory variables:"
   ]
  },
  {
   "cell_type": "code",
   "execution_count": 23,
   "metadata": {
    "collapsed": false
   },
   "outputs": [
    {
     "data": {
      "image/png": "[encoded data removed]",
      "text/plain": [
       "<IPython.core.display.Image object>"
      ]
     },
     "metadata": {},
     "output_type": "display_data"
    }
   ],
   "source": [
    "figure\n",
    "% That is making the figure\n",
    "imagesc(X_group)\n",
    "% Set title for figure and axes\n",
    "title('Explanatory variables')\n",
    "xlabel('Variable')\n",
    "ylabel('Subject')\n",
    "% Set subject and variable labels on each axis\n",
    "ha = gca;\n",
    "set(ha,'xtick',1:length(list_var))\n",
    "set(ha,'ytick',1:length(list_subject))\n",
    "set(ha,'xticklabel',list_var)\n",
    "set(ha,'yticklabel',list_subject)\n",
    "% Add a colorbar and a gray colormap\n",
    "colormap gray\n",
    "colorbar"
   ]
  },
  {
   "cell_type": "markdown",
   "metadata": {},
   "source": [
    "It is hard to visualize because our variables have vastly different ranges. For visualization purposes, we can normalize our variables to have a zero mean and unit variance"
   ]
  },
  {
   "cell_type": "code",
   "execution_count": 24,
   "metadata": {
    "collapsed": false
   },
   "outputs": [
    {
     "data": {
      "image/png": "[encoded data removed]",
      "text/plain": [
       "<IPython.core.display.Image object>"
      ]
     },
     "metadata": {},
     "output_type": "display_data"
    }
   ],
   "source": [
    "figure\n",
    "% That is making the figure\n",
    "% Note the call to niak_normalize_tseries to correct each variable to zero mean/unit variance\n",
    "imagesc(niak_normalize_tseries(X_group))\n",
    "% Set title for figure and axes\n",
    "title('Explanatory variables')\n",
    "xlabel('Variable')\n",
    "ylabel('Subject')\n",
    "% Set subject and variable labels on each axis\n",
    "ha = gca;\n",
    "set(ha,'xtick',1:length(list_var))\n",
    "set(ha,'ytick',1:length(list_subject))\n",
    "set(ha,'xticklabel',list_var)\n",
    "set(ha,'yticklabel',list_subject)\n",
    "% Add a colorbar and a gray colormap\n",
    "colormap gray\n",
    "colorbar"
   ]
  },
  {
   "cell_type": "markdown",
   "metadata": {},
   "source": []
  },
  {
   "cell_type": "code",
   "execution_count": 26,
   "metadata": {
    "collapsed": false
   },
   "outputs": [
    {
     "data": {
      "image/png": "[encoded data removed]",
      "text/plain": [
       "<IPython.core.display.Image object>"
      ]
     },
     "metadata": {},
     "output_type": "display_data"
    }
   ],
   "source": [
    "Rx = corr(X_group);\n",
    "niak_visu_matrix(Rx);\n",
    "title('correlation of explanatory variables across subject')"
   ]
  },
  {
   "cell_type": "markdown",
   "metadata": {},
   "source": []
  },
  {
   "cell_type": "markdown",
   "metadata": {},
   "source": [
    "# Connectivity maps"
   ]
  },
  {
   "cell_type": "markdown",
   "metadata": {},
   "source": [
    "Now we are going to get a list of the connectivity maps associated with each subject for one network, say the DMN. Labels for each network have been specified when running the `connectome` pipeline. We simply grab the outputs of the connectome pipeline. "
   ]
  },
  {
   "cell_type": "code",
   "execution_count": null,
   "metadata": {
    "collapsed": false
   },
   "outputs": [],
   "source": [
    "path_connectome = [pwd filesep 'connectome'];\n",
    "files_conn = niak_grab_connectome(path_connectome);\n",
    "files_in.data = files_conn.rmap;"
   ]
  },
  {
   "cell_type": "markdown",
   "metadata": {},
   "source": [
    "## Brain mask\n",
    "We specify the mask of brain networks to the pipeline, so that it can use it to mask the grey matter. "
   ]
  },
  {
   "cell_type": "code",
   "execution_count": null,
   "metadata": {
    "collapsed": false
   },
   "outputs": [],
   "source": [
    "files_in.mask = files_conn.network_rois;"
   ]
  },
  {
   "cell_type": "markdown",
   "metadata": {},
   "source": [
    "# Set up the options of the pipeline"
   ]
  },
  {
   "cell_type": "markdown",
   "metadata": {},
   "source": [
    "First specify where to save the outputs, and how many networks to use: "
   ]
  },
  {
   "cell_type": "code",
   "execution_count": null,
   "metadata": {
    "collapsed": true
   },
   "outputs": [],
   "source": [
    "%% General\n",
    "opt.folder_out = [pwd filesep 'subtype'];    "
   ]
  },
  {
   "cell_type": "markdown",
   "metadata": {},
   "source": [
    "Then specify which covariates to use as confounds **before** the generation of subtypes. "
   ]
  },
  {
   "cell_type": "code",
   "execution_count": null,
   "metadata": {
    "collapsed": true
   },
   "outputs": [],
   "source": [
    "% a list of variable names to be regressed out\n",
    "% If unspecified or left empty, no confounds are regressed\n",
    "opt.stack.regress_conf = {'fd'};     "
   ]
  },
  {
   "cell_type": "markdown",
   "metadata": {},
   "source": [
    "The options for the subtypes themselves:"
   ]
  },
  {
   "cell_type": "code",
   "execution_count": null,
   "metadata": {
    "collapsed": true
   },
   "outputs": [],
   "source": [
    "%% Subtyping\n",
    "opt.subtype.nb_subtype = 2;        % the number of subtypes to extract\n",
    "opt.subtype.sub_map_type = 'mean'; % the model for the subtype maps (options are 'mean' or 'median')"
   ]
  },
  {
   "cell_type": "markdown",
   "metadata": {},
   "source": [
    "Now we add an association test between subtypes and the patient label:"
   ]
  },
  {
   "cell_type": "code",
   "execution_count": null,
   "metadata": {
    "collapsed": true
   },
   "outputs": [],
   "source": [
    "% scalar number for the level of acceptable false-discovery rate (FDR) for the t-maps\n",
    "opt.association.patient.fdr = 0.05;                           \n",
    "% turn on/off normalization of covariates in model (true: apply / false: don't apply)\n",
    "opt.association.patient.normalize_x = false;                   \n",
    "% turn on/off normalization of all data (true: apply / false: don't apply)\n",
    "opt.association.patient.normalize_y = false;                  \n",
    "% turn on/off adding a constant covariate to the model\n",
    "opt.association.patient.flag_intercept = true;     \n",
    "% To test a main effect of a variable\n",
    "opt.association.patient.contrast.patient = 1; % scalar number for the weight of the variable in the contrast\n",
    "opt.association.patient.contrast.fd = 0;      % scalar number for the weight of the variable in the contrast\n",
    "opt.association.patient.contrast.age = 0;     % scalar number for the weight of the variable in the contrast\n",
    "% type of data for visulization (options are 'continuous' or 'categorical')\n",
    "opt.association.patient.type_visu = 'continuous'; "
   ]
  },
  {
   "cell_type": "markdown",
   "metadata": {},
   "source": [
    "It is also possible to add a single chi-square test on the relationship between subtypes and a categorical variable:"
   ]
  },
  {
   "cell_type": "code",
   "execution_count": null,
   "metadata": {
    "collapsed": true
   },
   "outputs": [],
   "source": [
    "% string name of the column in files_in.model on which the contigency table will be based\n",
    "opt.chi2 = 'patient';    "
   ]
  },
  {
   "cell_type": "markdown",
   "metadata": {},
   "source": [
    "# Run the pipeline"
   ]
  },
  {
   "cell_type": "code",
   "execution_count": null,
   "metadata": {
    "collapsed": false
   },
   "outputs": [],
   "source": [
    "opt.flag_test = false;  % Put this flag to true to just generate the pipeline without running it.\n",
    "pipeline = niak_pipeline_subtype(files_in,opt);"
   ]
  }
 ],
 "metadata": {
  "kernelspec": {
   "display_name": "Octave",
   "language": "octave",
   "name": "octave"
  },
  "language_info": {
   "file_extension": ".m",
   "help_links": [
    {
     "text": "GNU Octave",
     "url": "https://www.gnu.org/software/octave/support.html"
    },
    {
     "text": "Octave Kernel",
     "url": "https://github.com/Calysto/octave_kernel"
    },
    {
     "text": "MetaKernel Magics",
     "url": "https://github.com/calysto/metakernel/blob/master/metakernel/magics/README.md"
    }
   ],
   "mimetype": "text/x-octave",
   "name": "octave",
   "version": "4.0.2"
  }
 },
 "nbformat": 4,
 "nbformat_minor": 0
}
