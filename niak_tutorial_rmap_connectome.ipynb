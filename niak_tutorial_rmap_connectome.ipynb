{
 "cells": [
  {
   "cell_type": "markdown",
   "metadata": {
    "deletable": true,
    "editable": true
   },
   "source": [
    "# Connectome pipeline\n",
    "This tutorial shows how to use the NIAK connectome pipeline to generate seed-based functional connectivity maps on a single subject from the COBRE \"lightweight\" sample. \n",
    "  * **More documentation**: on the various pipeline options can be found on the [here](http://niak.simexp-lab.org/pipe_connectome.html). \n",
    "  * **.m script**: The notebook and associated Matlab script are available [here](https://nbviewer.jupyter.org/github/SIMEXP/niak_tutorials/blob/master/niak_tutorial_rmap_connectome.ipynb).\n",
    "  * **Time for completion**: this tutorial will take 5-10 minutes to complete. "
   ]
  },
  {
   "cell_type": "markdown",
   "metadata": {
    "deletable": true,
    "editable": true
   },
   "source": [
    "## Preparing files\n",
    "\n",
    "### Functional MRI \n",
    "First download a small preprocessed fMRI dataset. "
   ]
  },
  {
   "cell_type": "code",
   "execution_count": 1,
   "metadata": {
    "collapsed": false,
    "deletable": true,
    "editable": true
   },
   "outputs": [
    {
     "name": "stdout",
     "output_type": "stream",
     "text": [
      "--2017-04-06 02:34:53--  https://www.nitrc.org/frs/download.php/9401/cobre_lightweight20.zip\n",
      "Resolving www.nitrc.org (www.nitrc.org)... 132.239.16.23\n",
      "Connecting to www.nitrc.org (www.nitrc.org)|132.239.16.23|:443... connected.\n",
      "HTTP request sent, awaiting response... 200 OK\n",
      "Length: 89902898 (86M) [application/force-download]\n",
      "Saving to: `/sandbox/home/git/niak_tutorials/cobre_lightweight20/cobre_lightweight20.zip'\n",
      "\n",
      "100%[======================================>] 89,902,898  1.46M/s   in 52s     \n",
      "\n",
      "2017-04-06 02:35:45 (1.66 MB/s) - `/sandbox/home/git/niak_tutorials/cobre_lightweight20/cobre_lightweight20.zip' saved [89902898/89902898]\n",
      "\n",
      "Deleting file '/sandbox/home/git/niak_tutorials/cobre_lightweight20/cobre_lightweight20.zip' \n",
      "ans = 0\n"
     ]
    }
   ],
   "source": [
    "clear\n",
    "path_data = [pwd filesep];\n",
    "[status,msg,data_fmri] = niak_wget('cobre_lightweight20_nii');"
   ]
  },
  {
   "cell_type": "markdown",
   "metadata": {
    "deletable": true,
    "editable": true
   },
   "source": [
    "When starting from fMRI data preprocessed with NIAK, it is possible to use `niak_grab_fmri_preprocess` on the output folder to collect the file names, as described in the [pipeline documentation](http://niak.simexp-lab.org/pipe_connectome.html). In this case, we explicitely list all the files"
   ]
  },
  {
   "cell_type": "code",
   "execution_count": 2,
   "metadata": {
    "collapsed": false,
    "deletable": true,
    "editable": true
   },
   "outputs": [],
   "source": [
    "file_pheno = [data_fmri.path filesep 'phenotypic_data.tsv.gz'];\n",
    "tab = niak_read_csv_cell(file_pheno);\n",
    "list_subject = tab(2:end,1);\n",
    "files_in = struct;\n",
    "for ss = 1:length(list_subject)\n",
    "    files_in.fmri.(list_subject{ss}).sess1.rest = [data_fmri.path filesep 'fmri_' list_subject{ss} '.nii.gz'];\n",
    "end"
   ]
  },
  {
   "cell_type": "markdown",
   "metadata": {
    "deletable": true,
    "editable": true
   },
   "source": [
    "### Brain parcellation\n",
    "The second input of the pipeline is a set of brain parcels. We will just download the so-called Cambridge functional template. \n",
    "\n"
   ]
  },
  {
   "cell_type": "code",
   "execution_count": 3,
   "metadata": {
    "collapsed": false,
    "deletable": true,
    "editable": true
   },
   "outputs": [
    {
     "name": "stdout",
     "output_type": "stream",
     "text": [
      "--2017-04-06 02:35:48--  http://files.figshare.com/1861821/template_cambridge_basc_multiscale_mnc_sym.zip\n",
      "Resolving files.figshare.com (files.figshare.com)... 52.211.238.180, 54.194.135.36\n",
      "Connecting to files.figshare.com (files.figshare.com)|52.211.238.180|:80... connected.\n",
      "HTTP request sent, awaiting response... 301 Moved Permanently\n",
      "Location: https://ndownloader.figshare.com/files/1861821 [following]\n",
      "--2017-04-06 02:35:48--  https://ndownloader.figshare.com/files/1861821\n",
      "Resolving ndownloader.figshare.com (ndownloader.figshare.com)... 52.49.0.95, 34.251.222.116, 54.246.157.89, ...\n",
      "Connecting to ndownloader.figshare.com (ndownloader.figshare.com)|52.49.0.95|:443... connected.\n",
      "HTTP request sent, awaiting response... 302 Found\n",
      "Location: https://s3-eu-west-1.amazonaws.com/pfigshare-u-files/1861821/template_cambridge_basc_multiscale_mnc_sym.zip [following]\n",
      "--2017-04-06 02:35:49--  https://s3-eu-west-1.amazonaws.com/pfigshare-u-files/1861821/template_cambridge_basc_multiscale_mnc_sym.zip\n",
      "Resolving s3-eu-west-1.amazonaws.com (s3-eu-west-1.amazonaws.com)... 52.218.16.68\n",
      "Connecting to s3-eu-west-1.amazonaws.com (s3-eu-west-1.amazonaws.com)|52.218.16.68|:443... connected.\n",
      "HTTP request sent, awaiting response... 200 OK\n",
      "Length: 211786 (207K) [binary/octet-stream]\n",
      "Saving to: `/sandbox/home/git/niak_tutorials/template_cambridge_basc_multiscale_mnc_sym/template_cambridge_basc_multiscale_mnc_sym.zip'\n",
      "\n",
      "100%[======================================>] 211,786      252K/s   in 0.8s    \n",
      "\n",
      "2017-04-06 02:35:51 (252 KB/s) - `/sandbox/home/git/niak_tutorials/template_cambridge_basc_multiscale_mnc_sym/template_cambridge_basc_multiscale_mnc_sym.zip' saved [211786/211786]\n",
      "\n",
      "Deleting file '/sandbox/home/git/niak_tutorials/template_cambridge_basc_multiscale_mnc_sym/template_cambridge_basc_multiscale_mnc_sym.zip' \n",
      "ans = 0\n"
     ]
    }
   ],
   "source": [
    "[status,msg,data_template] = niak_wget('cambridge_template_mnc1');"
   ]
  },
  {
   "cell_type": "markdown",
   "metadata": {
    "deletable": true,
    "editable": true
   },
   "source": [
    "We are going to pick the parcellation into 7 distributed networks."
   ]
  },
  {
   "cell_type": "code",
   "execution_count": 4,
   "metadata": {
    "collapsed": false,
    "deletable": true,
    "editable": true
   },
   "outputs": [],
   "source": [
    "files_in.network = [data_template.path filesep 'template_cambridge_basc_multiscale_sym_scale007.mnc.gz'];"
   ]
  },
  {
   "cell_type": "markdown",
   "metadata": {
    "deletable": true,
    "editable": true
   },
   "source": [
    "### List of seeds\n",
    "\n",
    "The next step is to generate a list of seeds. This requires creating a text file that looks like:\n",
    "```\n",
    "        , index\n",
    " MOTOR  , 3\n",
    " DMN    , 5\n",
    "```\n",
    "We are going to use NIAK's tool to write comma-separated values (CSV) in a file:"
   ]
  },
  {
   "cell_type": "code",
   "execution_count": 5,
   "metadata": {
    "collapsed": true,
    "deletable": true,
    "editable": true
   },
   "outputs": [],
   "source": [
    "files_in.seeds = [path_data 'list_seeds.csv'];\n",
    "opt_csv.labels_x = { 'MOTOR' , 'DMN' }; % The labels for the network\n",
    "opt_csv.labels_y = { 'index' };\n",
    "tab = [3 ; 5];\n",
    "niak_write_csv(files_in.seeds,tab,opt_csv);"
   ]
  },
  {
   "cell_type": "markdown",
   "metadata": {
    "deletable": true,
    "editable": true
   },
   "source": [
    "# Set the options of the pipeline\n",
    "Now we set up where to store the results:"
   ]
  },
  {
   "cell_type": "code",
   "execution_count": 6,
   "metadata": {
    "collapsed": true,
    "deletable": true,
    "editable": true
   },
   "outputs": [],
   "source": [
    "opt.folder_out = [path_data 'connectome'];"
   ]
  },
  {
   "cell_type": "markdown",
   "metadata": {
    "deletable": true,
    "editable": true
   },
   "source": [
    "We set options such that we will not generate graph properties, just the correlation maps:"
   ]
  },
  {
   "cell_type": "code",
   "execution_count": 7,
   "metadata": {
    "collapsed": true,
    "deletable": true,
    "editable": true
   },
   "outputs": [],
   "source": [
    "opt.flag_p2p = false; % No parcel-to-parcel correlation values\n",
    "opt.flag_global_prop = false; % No global graph properties\n",
    "opt.flag_local_prop  = false; % No local graph properties\n",
    "opt.flag_rmap = true; % Generate correlation maps"
   ]
  },
  {
   "cell_type": "markdown",
   "metadata": {
    "deletable": true,
    "editable": true
   },
   "source": [
    "# Run the pipeline\n",
    "Now let's run the pipeline:"
   ]
  },
  {
   "cell_type": "code",
   "execution_count": 8,
   "metadata": {
    "collapsed": false,
    "deletable": true,
    "editable": true
   },
   "outputs": [
    {
     "name": "stdout",
     "output_type": "stream",
     "text": [
      "Adding seed MOTOR (parcel number 3)\n",
      "Adding seed DMN (parcel number 5)\n",
      "\n",
      "Logs will be stored in /sandbox/home/git/niak_tutorials/connectome/logs/\n",
      "Generating dependencies ...\n",
      "   Percentage completed :  0 5 10 15 20 25 30 35 40 45 50 55 60 65 70 75 80 85 90 95 100- 0.05 sec\n",
      "Setting up the to-do list ...\n",
      "   I found 43 job(s) to do.\n",
      "I could not find any log file. This pipeline has not been started (yet?). Press CTRL-C to cancel.\n",
      "Deamon started on 06-Apr-2017 02:35:53\n",
      "06-Apr-2017 02:35:53 Starting the pipeline manager...\n",
      "06-Apr-2017 02:35:53 Starting the garbage collector...\n",
      "06-Apr-2017 02:35:53 Starting worker number 1...\n",
      "06-Apr-2017 02:35:53 Starting worker number 2...\n",
      "06-Apr-2017 02:35:53 Starting worker number 3...\n",
      "06-Apr-2017 02:35:53 Starting worker number 4...\n",
      "\n",
      "Pipeline started on 06-Apr-2017 02:35:54\n",
      "user: , host: 404bac75ac66, system: unix\n",
      "****************************************\n",
      "06-Apr-2017 02:35:56 mask_rois          submitted  (1 run | 0 fail | 0 done | 42 left)\n",
      "06-Apr-2017 02:35:58 mask_rois          finished   (0 run | 0 fail | 1 done | 42 left)\n",
      "06-Apr-2017 02:35:58 connectome_40061   submitted  (1 run | 0 fail | 1 done | 41 left)\n",
      "06-Apr-2017 02:35:58 connectome_40117   submitted  (2 run | 0 fail | 1 done | 40 left)\n",
      "06-Apr-2017 02:35:58 connectome_40145   submitted  (3 run | 0 fail | 1 done | 39 left)\n",
      "06-Apr-2017 02:35:58 connectome_40113   submitted  (4 run | 0 fail | 1 done | 38 left)\n",
      "06-Apr-2017 02:35:58 connectome_40029   submitted  (5 run | 0 fail | 1 done | 37 left)\n",
      "06-Apr-2017 02:35:58 connectome_40133   submitted  (6 run | 0 fail | 1 done | 36 left)\n",
      "06-Apr-2017 02:35:58 connectome_40020   submitted  (7 run | 0 fail | 1 done | 35 left)\n",
      "06-Apr-2017 02:35:58 connectome_40065   submitted  (8 run | 0 fail | 1 done | 34 left)\n",
      "06-Apr-2017 02:36:00 connectome_40117   finished   (7 run | 0 fail | 2 done | 34 left)\n",
      "06-Apr-2017 02:36:00 connectome_40029   finished   (6 run | 0 fail | 3 done | 34 left)\n",
      "06-Apr-2017 02:36:00 connectome_40020   finished   (5 run | 0 fail | 4 done | 34 left)\n",
      "06-Apr-2017 02:36:00 connectome_40065   finished   (4 run | 0 fail | 5 done | 34 left)\n",
      "06-Apr-2017 02:36:00 connectome_40122   submitted  (5 run | 0 fail | 5 done | 33 left)\n",
      "06-Apr-2017 02:36:00 connectome_40051   submitted  (6 run | 0 fail | 5 done | 32 left)\n",
      "06-Apr-2017 02:36:00 connectome_40129   submitted  (7 run | 0 fail | 5 done | 31 left)\n",
      "06-Apr-2017 02:36:00 connectome_40037   submitted  (8 run | 0 fail | 5 done | 30 left)\n",
      "06-Apr-2017 02:36:01 connectome_40061   finished   (7 run | 0 fail | 6 done | 30 left)\n",
      "06-Apr-2017 02:36:01 connectome_40145   finished   (6 run | 0 fail | 7 done | 30 left)\n",
      "06-Apr-2017 02:36:02 connectome_40133   finished   (5 run | 0 fail | 8 done | 30 left)\n",
      "06-Apr-2017 02:36:02 connectome_40093   submitted  (6 run | 0 fail | 8 done | 29 left)\n",
      "06-Apr-2017 02:36:02 connectome_40059   submitted  (7 run | 0 fail | 8 done | 28 left)\n",
      "06-Apr-2017 02:36:02 connectome_40113   finished   (6 run | 0 fail | 9 done | 28 left)\n",
      "06-Apr-2017 02:36:02 connectome_40104   submitted  (7 run | 0 fail | 9 done | 27 left)\n",
      "06-Apr-2017 02:36:02 connectome_40138   submitted  (8 run | 0 fail | 9 done | 26 left)\n",
      "06-Apr-2017 02:36:03 connectome_40122   finished   (7 run | 0 fail | 10 done | 26 left)\n",
      "06-Apr-2017 02:36:03 connectome_40051   finished   (6 run | 0 fail | 11 done | 26 left)\n",
      "06-Apr-2017 02:36:03 connectome_40129   finished   (5 run | 0 fail | 12 done | 26 left)\n",
      "06-Apr-2017 02:36:03 connectome_40037   finished   (4 run | 0 fail | 13 done | 26 left)\n",
      "06-Apr-2017 02:36:03 connectome_40003   submitted  (5 run | 0 fail | 13 done | 25 left)\n",
      "06-Apr-2017 02:36:03 connectome_40008   submitted  (6 run | 0 fail | 13 done | 24 left)\n",
      "06-Apr-2017 02:36:03 connectome_40077   submitted  (7 run | 0 fail | 13 done | 23 left)\n",
      "06-Apr-2017 02:36:03 connectome_40045   submitted  (8 run | 0 fail | 13 done | 22 left)\n",
      "06-Apr-2017 02:36:05 connectome_40093   finished   (7 run | 0 fail | 14 done | 22 left)\n",
      "06-Apr-2017 02:36:05 connectome_40059   finished   (6 run | 0 fail | 15 done | 22 left)\n",
      "06-Apr-2017 02:36:05 connectome_40104   finished   (5 run | 0 fail | 16 done | 22 left)\n",
      "06-Apr-2017 02:36:05 connectome_40138   finished   (4 run | 0 fail | 17 done | 22 left)\n",
      "06-Apr-2017 02:36:05 rmap_seeds_40061   submitted  (5 run | 0 fail | 17 done | 21 left)\n",
      "06-Apr-2017 02:36:05 rmap_seeds_40117   submitted  (6 run | 0 fail | 17 done | 20 left)\n",
      "06-Apr-2017 02:36:05 rmap_seeds_40145   submitted  (7 run | 0 fail | 17 done | 19 left)\n",
      "06-Apr-2017 02:36:05 rmap_seeds_40113   submitted  (8 run | 0 fail | 17 done | 18 left)\n",
      "06-Apr-2017 02:36:06 connectome_40003   finished   (7 run | 0 fail | 18 done | 18 left)\n",
      "06-Apr-2017 02:36:06 connectome_40077   finished   (6 run | 0 fail | 19 done | 18 left)\n",
      "06-Apr-2017 02:36:06 rmap_seeds_40029   submitted  (7 run | 0 fail | 19 done | 17 left)\n",
      "06-Apr-2017 02:36:06 connectome_40008   finished   (6 run | 0 fail | 20 done | 17 left)\n",
      "06-Apr-2017 02:36:06 connectome_40045   finished   (5 run | 0 fail | 21 done | 17 left)\n",
      "06-Apr-2017 02:36:06 rmap_seeds_40133   submitted  (6 run | 0 fail | 21 done | 16 left)\n",
      "06-Apr-2017 02:36:06 rmap_seeds_40020   submitted  (7 run | 0 fail | 21 done | 15 left)\n",
      "06-Apr-2017 02:36:06 rmap_seeds_40065   submitted  (8 run | 0 fail | 21 done | 14 left)\n",
      "06-Apr-2017 02:36:09 rmap_seeds_40061   finished   (7 run | 0 fail | 22 done | 14 left)\n",
      "06-Apr-2017 02:36:09 rmap_seeds_40117   finished   (6 run | 0 fail | 23 done | 14 left)\n",
      "06-Apr-2017 02:36:09 rmap_seeds_40145   finished   (5 run | 0 fail | 24 done | 14 left)\n",
      "06-Apr-2017 02:36:09 rmap_seeds_40122   submitted  (6 run | 0 fail | 24 done | 13 left)\n",
      "06-Apr-2017 02:36:09 rmap_seeds_40051   submitted  (7 run | 0 fail | 24 done | 12 left)\n",
      "06-Apr-2017 02:36:09 rmap_seeds_40129   submitted  (8 run | 0 fail | 24 done | 11 left)\n",
      "06-Apr-2017 02:36:10 rmap_seeds_40113   finished   (7 run | 0 fail | 25 done | 11 left)\n",
      "06-Apr-2017 02:36:10 rmap_seeds_40037   submitted  (8 run | 0 fail | 25 done | 10 left)\n",
      "06-Apr-2017 02:36:12 rmap_seeds_40029   finished   (7 run | 0 fail | 26 done | 10 left)\n",
      "06-Apr-2017 02:36:12 rmap_seeds_40020   finished   (6 run | 0 fail | 27 done | 10 left)\n",
      "06-Apr-2017 02:36:12 rmap_seeds_40093   submitted  (7 run | 0 fail | 27 done | 9 left)\n",
      "06-Apr-2017 02:36:12 rmap_seeds_40133   finished   (6 run | 0 fail | 28 done | 9 left)\n",
      "06-Apr-2017 02:36:12 rmap_seeds_40065   finished   (5 run | 0 fail | 29 done | 9 left)\n",
      "06-Apr-2017 02:36:12 rmap_seeds_40059   submitted  (6 run | 0 fail | 29 done | 8 left)\n",
      "06-Apr-2017 02:36:12 rmap_seeds_40104   submitted  (7 run | 0 fail | 29 done | 7 left)\n",
      "06-Apr-2017 02:36:12 rmap_seeds_40138   submitted  (8 run | 0 fail | 29 done | 6 left)\n",
      "06-Apr-2017 02:36:15 rmap_seeds_40122   finished   (7 run | 0 fail | 30 done | 6 left)\n",
      "06-Apr-2017 02:36:15 rmap_seeds_40051   finished   (6 run | 0 fail | 31 done | 6 left)\n",
      "06-Apr-2017 02:36:15 rmap_seeds_40129   finished   (5 run | 0 fail | 32 done | 6 left)\n",
      "06-Apr-2017 02:36:15 rmap_seeds_40003   submitted  (6 run | 0 fail | 32 done | 5 left)\n",
      "06-Apr-2017 02:36:15 rmap_seeds_40008   submitted  (7 run | 0 fail | 32 done | 4 left)\n",
      "06-Apr-2017 02:36:15 rmap_seeds_40077   submitted  (8 run | 0 fail | 32 done | 3 left)\n",
      "06-Apr-2017 02:36:15 rmap_seeds_40037   finished   (7 run | 0 fail | 33 done | 3 left)\n",
      "06-Apr-2017 02:36:15 rmap_seeds_40045   submitted  (8 run | 0 fail | 33 done | 2 left)\n",
      "06-Apr-2017 02:36:18 rmap_seeds_40093   finished   (7 run | 0 fail | 34 done | 2 left)\n",
      "06-Apr-2017 02:36:18 rmap_seeds_40104   finished   (6 run | 0 fail | 35 done | 2 left)\n",
      "06-Apr-2017 02:36:18 rmap_seeds_40059   finished   (5 run | 0 fail | 36 done | 2 left)\n",
      "06-Apr-2017 02:36:18 rmap_seeds_40138   finished   (4 run | 0 fail | 37 done | 2 left)\n",
      "06-Apr-2017 02:36:20 rmap_seeds_40003   finished   (3 run | 0 fail | 38 done | 2 left)\n",
      "06-Apr-2017 02:36:20 Stopping idle worker 2 (not enough jobs left to do).\n",
      "06-Apr-2017 02:36:21 rmap_seeds_40008   finished   (2 run | 0 fail | 39 done | 2 left)\n",
      "06-Apr-2017 02:36:21 rmap_seeds_40045   finished   (1 run | 0 fail | 40 done | 2 left)\n",
      "06-Apr-2017 02:36:21 Stopping idle worker 3 (not enough jobs left to do).\n",
      "06-Apr-2017 02:36:21 rmap_seeds_40077   finished   (0 run | 0 fail | 41 done | 2 left)\n",
      "06-Apr-2017 02:36:21 average_rmap_MOTOR submitted  (1 run | 0 fail | 41 done | 1 left)\n",
      "06-Apr-2017 02:36:21 average_rmap_DMN   submitted  (2 run | 0 fail | 41 done | 0 left)\n",
      "Deamon terminated on 06-Apr-2017 02:36:23\n",
      "\n",
      "06-Apr-2017 02:36:23 average_rmap_MOTOR finished   (1 run | 0 fail | 42 done | 0 left)\n",
      "06-Apr-2017 02:36:23 average_rmap_DMN   finished   (0 run | 0 fail | 43 done | 0 left)\n",
      "06-Apr-2017 02:36:23 Stopping idle worker 1 (not enough jobs left to do).\n",
      "06-Apr-2017 02:36:23 Stopping idle worker 4 (not enough jobs left to do).\n",
      "\n",
      "*******************************************\n",
      "Pipeline terminated on 06-Apr-2017 02:36:23\n",
      "All jobs have been successfully completed.\n",
      "\n"
     ]
    }
   ],
   "source": [
    "opt.flag_test = false; \n",
    "[pipeline,opt] = niak_pipeline_connectome(files_in,opt); "
   ]
  },
  {
   "cell_type": "markdown",
   "metadata": {
    "deletable": true,
    "editable": true
   },
   "source": [
    "# Reviewing outputs"
   ]
  },
  {
   "cell_type": "markdown",
   "metadata": {
    "deletable": true,
    "editable": true
   },
   "source": [
    "All the correlation maps have been generated in the subfolder called `rmap_seeds`, inside the output folder. There are first two average (across all subjects) maps, for each selected seed. We can have a quick look at them. Note that the files have been named using the identification codes in the file `files_in.seeds`.  "
   ]
  },
  {
   "cell_type": "code",
   "execution_count": 9,
   "metadata": {
    "collapsed": false,
    "deletable": true,
    "editable": true
   },
   "outputs": [
    {
     "name": "stdout",
     "output_type": "stream",
     "text": [
      "ans =\n",
      "\n",
      "   27   32   26\n",
      "\n",
      "ans =\n",
      "\n",
      "   27   32   26\n",
      "\n"
     ]
    }
   ],
   "source": [
    "file_dmn   = [opt.folder_out filesep 'rmap_seeds' filesep 'average_rmap_DMN.nii.gz'];\n",
    "file_motor = [opt.folder_out filesep 'rmap_seeds' filesep 'average_rmap_MOTOR.nii.gz'];\n",
    "[hdr,rmap_dmn]   = niak_read_vol(file_dmn);\n",
    "[hdr,rmap_motor] = niak_read_vol(file_motor);\n",
    "size(rmap_dmn)\n",
    "size(rmap_motor)"
   ]
  },
  {
   "cell_type": "markdown",
   "metadata": {
    "deletable": true,
    "editable": true
   },
   "source": [
    "We will now use `niak_vol2img` to generate a series of axial slices for both maps. "
   ]
  },
  {
   "cell_type": "code",
   "execution_count": 10,
   "metadata": {
    "collapsed": false,
    "deletable": true,
    "editable": true
   },
   "outputs": [
    {
     "data": {
      "image/png": "[encoded data removed]",
      "text/plain": [
       "<IPython.core.display.Image object>"
      ]
     },
     "metadata": {},
     "output_type": "display_data"
    }
   ],
   "source": [
    "% The default-mode network\n",
    "opt_v = struct;\n",
    "opt_v.vol_limits = [0.25 0.7];\n",
    "opt_v.type_color = 'hot_cold';\n",
    "niak_montage(rmap_dmn,opt_v)"
   ]
  },
  {
   "cell_type": "code",
   "execution_count": 11,
   "metadata": {
    "collapsed": false,
    "deletable": true,
    "editable": true
   },
   "outputs": [
    {
     "data": {
      "image/png": "[encoded data removed]",
      "text/plain": [
       "<IPython.core.display.Image object>"
      ]
     },
     "metadata": {},
     "output_type": "display_data"
    }
   ],
   "source": [
    "% The sensorimotor network\n",
    "opt_v = struct;\n",
    "opt_v.vol_limits = [0.25 0.7];\n",
    "opt_v.type_color = 'hot_cold';\n",
    "niak_montage(rmap_motor,opt_v)"
   ]
  },
  {
   "cell_type": "markdown",
   "metadata": {
    "deletable": true,
    "editable": true
   },
   "source": [
    "There are also two files which contain the seeds as binary masks. E.g.:"
   ]
  },
  {
   "cell_type": "code",
   "execution_count": 12,
   "metadata": {
    "collapsed": false,
    "deletable": true,
    "editable": true
   },
   "outputs": [
    {
     "data": {
      "image/png": "[encoded data removed]",
      "text/plain": [
       "<IPython.core.display.Image object>"
      ]
     },
     "metadata": {},
     "output_type": "display_data"
    }
   ],
   "source": [
    "file_mask_dmn   = [opt.folder_out filesep 'rmap_seeds' filesep 'mask_DMN.nii.gz'];\n",
    "[hdr,mask_dmn]   = niak_read_vol(file_mask_dmn);\n",
    "opt_v = struct;\n",
    "opt_v.vol_limits = [0 1];\n",
    "opt_v.type_color = 'hot_cold';\n",
    "niak_montage(mask_dmn,opt_v)"
   ]
  },
  {
   "cell_type": "markdown",
   "metadata": {
    "deletable": true,
    "editable": true
   },
   "source": [
    "Finally, there are also individual connectivity maps for each subject, named using the IDs we used in `files_in.fmri`. If multiple runs were specified per subject, the pipeline would average the maps from all runs.  "
   ]
  },
  {
   "cell_type": "code",
   "execution_count": 13,
   "metadata": {
    "collapsed": false,
    "deletable": true,
    "editable": true
   },
   "outputs": [
    {
     "data": {
      "image/png": "[encoded data removed]",
      "text/plain": [
       "<IPython.core.display.Image object>"
      ]
     },
     "metadata": {},
     "output_type": "display_data"
    }
   ],
   "source": [
    "file_dmn_40003   = [opt.folder_out filesep 'rmap_seeds' filesep 'rmap_40003_DMN.nii.gz'];\n",
    "[hdr,rmap_dmn_40003]   = niak_read_vol(file_dmn_40003);\n",
    "opt_v = struct;\n",
    "opt_v.vol_limits = [0.4 1];\n",
    "opt_v.type_color = 'hot_cold';\n",
    "niak_montage(rmap_dmn_40003,opt_v)"
   ]
  }
 ],
 "metadata": {
  "kernelspec": {
   "display_name": "Octave",
   "language": "octave",
   "name": "octave"
  },
  "language_info": {
   "file_extension": ".m",
   "help_links": [
    {
     "text": "GNU Octave",
     "url": "https://www.gnu.org/software/octave/support.html"
    },
    {
     "text": "Octave Kernel",
     "url": "https://github.com/Calysto/octave_kernel"
    },
    {
     "text": "MetaKernel Magics",
     "url": "https://github.com/calysto/metakernel/blob/master/metakernel/magics/README.md"
    }
   ],
   "mimetype": "text/x-octave",
   "name": "octave",
   "version": "4.0.2"
  }
 },
 "nbformat": 4,
 "nbformat_minor": 1
}
